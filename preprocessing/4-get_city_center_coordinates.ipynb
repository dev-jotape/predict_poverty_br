{
 "cells": [
  {
   "cell_type": "code",
   "execution_count": 1,
   "metadata": {},
   "outputs": [
    {
     "name": "stderr",
     "output_type": "stream",
     "text": [
      "c:\\Users\\Pedro\\anaconda3\\envs\\tf-gpu\\lib\\site-packages\\pyproj\\__init__.py:91: UserWarning: Valid PROJ data directory not found. Either set the path using the environmental variable PROJ_LIB or with `pyproj.datadir.set_data_dir`.\n",
      "  warnings.warn(str(err))\n"
     ]
    }
   ],
   "source": [
    "import geopandas as gpd"
   ]
  },
  {
   "cell_type": "code",
   "execution_count": 3,
   "metadata": {},
   "outputs": [
    {
     "data": {
      "text/html": [
       "<div>\n",
       "<style scoped>\n",
       "    .dataframe tbody tr th:only-of-type {\n",
       "        vertical-align: middle;\n",
       "    }\n",
       "\n",
       "    .dataframe tbody tr th {\n",
       "        vertical-align: top;\n",
       "    }\n",
       "\n",
       "    .dataframe thead th {\n",
       "        text-align: right;\n",
       "    }\n",
       "</style>\n",
       "<table border=\"1\" class=\"dataframe\">\n",
       "  <thead>\n",
       "    <tr style=\"text-align: right;\">\n",
       "      <th></th>\n",
       "      <th>CD_GEOCODM</th>\n",
       "      <th>NM_MUNICIP</th>\n",
       "      <th>NM_UF</th>\n",
       "      <th>LONG</th>\n",
       "      <th>LAT</th>\n",
       "    </tr>\n",
       "  </thead>\n",
       "  <tbody>\n",
       "    <tr>\n",
       "      <th>0</th>\n",
       "      <td>1100015</td>\n",
       "      <td>ALTA FLORESTA D'OESTE</td>\n",
       "      <td>RONDÔNIA</td>\n",
       "      <td>-61.999824</td>\n",
       "      <td>-11.935540</td>\n",
       "    </tr>\n",
       "    <tr>\n",
       "      <th>6</th>\n",
       "      <td>1100023</td>\n",
       "      <td>ARIQUEMES</td>\n",
       "      <td>RONDÔNIA</td>\n",
       "      <td>-63.033269</td>\n",
       "      <td>-9.908463</td>\n",
       "    </tr>\n",
       "    <tr>\n",
       "      <th>7</th>\n",
       "      <td>1100031</td>\n",
       "      <td>CABIXI</td>\n",
       "      <td>RONDÔNIA</td>\n",
       "      <td>-60.544314</td>\n",
       "      <td>-13.499763</td>\n",
       "    </tr>\n",
       "    <tr>\n",
       "      <th>9</th>\n",
       "      <td>1100049</td>\n",
       "      <td>CACOAL</td>\n",
       "      <td>RONDÔNIA</td>\n",
       "      <td>-61.442944</td>\n",
       "      <td>-11.433865</td>\n",
       "    </tr>\n",
       "    <tr>\n",
       "      <th>18</th>\n",
       "      <td>1100056</td>\n",
       "      <td>CEREJEIRAS</td>\n",
       "      <td>RONDÔNIA</td>\n",
       "      <td>-60.818426</td>\n",
       "      <td>-13.195033</td>\n",
       "    </tr>\n",
       "    <tr>\n",
       "      <th>...</th>\n",
       "      <td>...</td>\n",
       "      <td>...</td>\n",
       "      <td>...</td>\n",
       "      <td>...</td>\n",
       "      <td>...</td>\n",
       "    </tr>\n",
       "    <tr>\n",
       "      <th>21846</th>\n",
       "      <td>5222005</td>\n",
       "      <td>VIANÓPOLIS</td>\n",
       "      <td>GOIÁS</td>\n",
       "      <td>-48.513471</td>\n",
       "      <td>-16.742081</td>\n",
       "    </tr>\n",
       "    <tr>\n",
       "      <th>21849</th>\n",
       "      <td>5222054</td>\n",
       "      <td>VICENTINÓPOLIS</td>\n",
       "      <td>GOIÁS</td>\n",
       "      <td>-49.807239</td>\n",
       "      <td>-17.732662</td>\n",
       "    </tr>\n",
       "    <tr>\n",
       "      <th>21851</th>\n",
       "      <td>5222203</td>\n",
       "      <td>VILA BOA</td>\n",
       "      <td>GOIÁS</td>\n",
       "      <td>-47.057361</td>\n",
       "      <td>-15.034889</td>\n",
       "    </tr>\n",
       "    <tr>\n",
       "      <th>21853</th>\n",
       "      <td>5222302</td>\n",
       "      <td>VILA PROPÍCIO</td>\n",
       "      <td>GOIÁS</td>\n",
       "      <td>-48.882422</td>\n",
       "      <td>-15.454635</td>\n",
       "    </tr>\n",
       "    <tr>\n",
       "      <th>21855</th>\n",
       "      <td>5300108</td>\n",
       "      <td>BRASÍLIA</td>\n",
       "      <td>DISTRITO FEDERAL</td>\n",
       "      <td>-47.887905</td>\n",
       "      <td>-15.794087</td>\n",
       "    </tr>\n",
       "  </tbody>\n",
       "</table>\n",
       "<p>5565 rows × 5 columns</p>\n",
       "</div>"
      ],
      "text/plain": [
       "      CD_GEOCODM             NM_MUNICIP             NM_UF       LONG  \\\n",
       "0        1100015  ALTA FLORESTA D'OESTE          RONDÔNIA -61.999824   \n",
       "6        1100023              ARIQUEMES          RONDÔNIA -63.033269   \n",
       "7        1100031                 CABIXI          RONDÔNIA -60.544314   \n",
       "9        1100049                 CACOAL          RONDÔNIA -61.442944   \n",
       "18       1100056             CEREJEIRAS          RONDÔNIA -60.818426   \n",
       "...          ...                    ...               ...        ...   \n",
       "21846    5222005             VIANÓPOLIS             GOIÁS -48.513471   \n",
       "21849    5222054         VICENTINÓPOLIS             GOIÁS -49.807239   \n",
       "21851    5222203               VILA BOA             GOIÁS -47.057361   \n",
       "21853    5222302          VILA PROPÍCIO             GOIÁS -48.882422   \n",
       "21855    5300108               BRASÍLIA  DISTRITO FEDERAL -47.887905   \n",
       "\n",
       "             LAT  \n",
       "0     -11.935540  \n",
       "6      -9.908463  \n",
       "7     -13.499763  \n",
       "9     -11.433865  \n",
       "18    -13.195033  \n",
       "...          ...  \n",
       "21846 -16.742081  \n",
       "21849 -17.732662  \n",
       "21851 -15.034889  \n",
       "21853 -15.454635  \n",
       "21855 -15.794087  \n",
       "\n",
       "[5565 rows x 5 columns]"
      ]
     },
     "execution_count": 3,
     "metadata": {},
     "output_type": "execute_result"
    }
   ],
   "source": [
    "shape_br = gpd.read_file('../input/shapes/BR_Localidades_2010/BR_Localidades_2010_v1.shp')\n",
    "shape_br = shape_br[(shape_br['NM_CATEGOR'] == 'CIDADE')][['CD_GEOCODM', 'NM_MUNICIP', 'NM_UF', 'LONG', 'LAT']]\n",
    "shape_br"
   ]
  },
  {
   "cell_type": "code",
   "execution_count": 4,
   "metadata": {},
   "outputs": [],
   "source": [
    "shape_br.to_csv('../model/city_center_coordinates.csv', index=False)"
   ]
  }
 ],
 "metadata": {
  "kernelspec": {
   "display_name": "tf-gpu",
   "language": "python",
   "name": "python3"
  },
  "language_info": {
   "codemirror_mode": {
    "name": "ipython",
    "version": 3
   },
   "file_extension": ".py",
   "mimetype": "text/x-python",
   "name": "python",
   "nbconvert_exporter": "python",
   "pygments_lexer": "ipython3",
   "version": "3.9.15"
  },
  "orig_nbformat": 4,
  "vscode": {
   "interpreter": {
    "hash": "519c32a22f5704a01ac692e7e6d9ff212db66ac9f9205bc3605a672812f00e8d"
   }
  }
 },
 "nbformat": 4,
 "nbformat_minor": 2
}
